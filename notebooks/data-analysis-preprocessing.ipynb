{
 "cells": [
  {
   "cell_type": "markdown",
   "metadata": {},
   "source": [
    "# EcomBank Fraud Detection - Task 1: Data Analysis and Preprocessing\n",
    "\n",
    "\n",
    "\n",
    "This notebook focus on the preprocessing steps for the fraud detection datasets, including handling missing values, cleaning data, performing exploratory data analysis (EDA), feature engineering, and preparing the data for model building.\n",
    "\n"
   ]
  },
  {
   "cell_type": "markdown",
   "metadata": {},
   "source": [
    "## Loading Libraries"
   ]
  },
  {
   "cell_type": "code",
   "execution_count": 1,
   "metadata": {},
   "outputs": [],
   "source": [
    "\n",
    "import sys\n",
    "import os\n",
    "sys.path.append(os.path.abspath(os.path.join(os.getcwd(), '../scripts')))"
   ]
  },
  {
   "cell_type": "code",
   "execution_count": 2,
   "metadata": {},
   "outputs": [
    {
     "name": "stderr",
     "output_type": "stream",
     "text": [
      "2024-11-20 05:13:47,700 - INFO - Necessary libraries imported successfully.\n"
     ]
    }
   ],
   "source": [
    "from data_preprocessing import *"
   ]
  },
  {
   "cell_type": "markdown",
   "metadata": {},
   "source": [
    "# Load the datasets"
   ]
  },
  {
   "cell_type": "code",
   "execution_count": 3,
   "metadata": {},
   "outputs": [],
   "source": [
    "\n",
    "fraud_data = pd.read_csv('../data/Fraud_Data.csv')\n",
    "ip_data = pd.read_csv('../data/IpAddress_to_Country.csv')\n",
    "creditcard_data = pd.read_csv('../data/Creditcard.csv')"
   ]
  },
  {
   "cell_type": "code",
   "execution_count": 4,
   "metadata": {},
   "outputs": [
    {
     "data": {
      "text/plain": [
       "(   user_id          signup_time        purchase_time  purchase_value  \\\n",
       " 0    22058  2015-02-24 22:55:49  2015-04-18 02:47:11              34   \n",
       " 1   333320  2015-06-07 20:39:50  2015-06-08 01:38:54              16   \n",
       " 2     1359  2015-01-01 18:52:44  2015-01-01 18:52:45              15   \n",
       " 3   150084  2015-04-28 21:13:25  2015-05-04 13:54:50              44   \n",
       " 4   221365  2015-07-21 07:09:52  2015-09-09 18:40:53              39   \n",
       " \n",
       "        device_id source browser sex  age    ip_address  class  \n",
       " 0  QVPSPJUOCKZAR    SEO  Chrome   M   39  7.327584e+08      0  \n",
       " 1  EOGFQPIZPYXFZ    Ads  Chrome   F   53  3.503114e+08      0  \n",
       " 2  YSSKYOSJHPPLJ    SEO   Opera   M   53  2.621474e+09      1  \n",
       " 3  ATGTXKYKUDUQN    SEO  Safari   M   41  3.840542e+09      0  \n",
       " 4  NAUITBZFJKHWW    Ads  Safari   M   45  4.155831e+08      0  ,\n",
       "    lower_bound_ip_address  upper_bound_ip_address    country\n",
       " 0              16777216.0                16777471  Australia\n",
       " 1              16777472.0                16777727      China\n",
       " 2              16777728.0                16778239      China\n",
       " 3              16778240.0                16779263  Australia\n",
       " 4              16779264.0                16781311      China,\n",
       "    Time        V1        V2        V3        V4        V5        V6        V7  \\\n",
       " 0   0.0 -1.359807 -0.072781  2.536347  1.378155 -0.338321  0.462388  0.239599   \n",
       " 1   0.0  1.191857  0.266151  0.166480  0.448154  0.060018 -0.082361 -0.078803   \n",
       " 2   1.0 -1.358354 -1.340163  1.773209  0.379780 -0.503198  1.800499  0.791461   \n",
       " 3   1.0 -0.966272 -0.185226  1.792993 -0.863291 -0.010309  1.247203  0.237609   \n",
       " 4   2.0 -1.158233  0.877737  1.548718  0.403034 -0.407193  0.095921  0.592941   \n",
       " \n",
       "          V8        V9  ...       V21       V22       V23       V24       V25  \\\n",
       " 0  0.098698  0.363787  ... -0.018307  0.277838 -0.110474  0.066928  0.128539   \n",
       " 1  0.085102 -0.255425  ... -0.225775 -0.638672  0.101288 -0.339846  0.167170   \n",
       " 2  0.247676 -1.514654  ...  0.247998  0.771679  0.909412 -0.689281 -0.327642   \n",
       " 3  0.377436 -1.387024  ... -0.108300  0.005274 -0.190321 -1.175575  0.647376   \n",
       " 4 -0.270533  0.817739  ... -0.009431  0.798278 -0.137458  0.141267 -0.206010   \n",
       " \n",
       "         V26       V27       V28  Amount  Class  \n",
       " 0 -0.189115  0.133558 -0.021053  149.62      0  \n",
       " 1  0.125895 -0.008983  0.014724    2.69      0  \n",
       " 2 -0.139097 -0.055353 -0.059752  378.66      0  \n",
       " 3 -0.221929  0.062723  0.061458  123.50      0  \n",
       " 4  0.502292  0.219422  0.215153   69.99      0  \n",
       " \n",
       " [5 rows x 31 columns])"
      ]
     },
     "execution_count": 4,
     "metadata": {},
     "output_type": "execute_result"
    }
   ],
   "source": [
    "# Display the first few rows of each dataset\n",
    "fraud_data.head(), ip_data.head(), creditcard_data.head()\n"
   ]
  },
  {
   "cell_type": "code",
   "execution_count": 5,
   "metadata": {},
   "outputs": [
    {
     "name": "stdout",
     "output_type": "stream",
     "text": [
      "<class 'pandas.core.frame.DataFrame'>\n",
      "RangeIndex: 151112 entries, 0 to 151111\n",
      "Data columns (total 11 columns):\n",
      " #   Column          Non-Null Count   Dtype  \n",
      "---  ------          --------------   -----  \n",
      " 0   user_id         151112 non-null  int64  \n",
      " 1   signup_time     151112 non-null  object \n",
      " 2   purchase_time   151112 non-null  object \n",
      " 3   purchase_value  151112 non-null  int64  \n",
      " 4   device_id       151112 non-null  object \n",
      " 5   source          151112 non-null  object \n",
      " 6   browser         151112 non-null  object \n",
      " 7   sex             151112 non-null  object \n",
      " 8   age             151112 non-null  int64  \n",
      " 9   ip_address      151112 non-null  float64\n",
      " 10  class           151112 non-null  int64  \n",
      "dtypes: float64(1), int64(4), object(6)\n",
      "memory usage: 12.7+ MB\n",
      "<class 'pandas.core.frame.DataFrame'>\n",
      "RangeIndex: 138846 entries, 0 to 138845\n",
      "Data columns (total 3 columns):\n",
      " #   Column                  Non-Null Count   Dtype  \n",
      "---  ------                  --------------   -----  \n",
      " 0   lower_bound_ip_address  138846 non-null  float64\n",
      " 1   upper_bound_ip_address  138846 non-null  int64  \n",
      " 2   country                 138846 non-null  object \n",
      "dtypes: float64(1), int64(1), object(1)\n",
      "memory usage: 3.2+ MB\n",
      "<class 'pandas.core.frame.DataFrame'>\n",
      "RangeIndex: 284807 entries, 0 to 284806\n",
      "Data columns (total 31 columns):\n",
      " #   Column  Non-Null Count   Dtype  \n",
      "---  ------  --------------   -----  \n",
      " 0   Time    284807 non-null  float64\n",
      " 1   V1      284807 non-null  float64\n",
      " 2   V2      284807 non-null  float64\n",
      " 3   V3      284807 non-null  float64\n",
      " 4   V4      284807 non-null  float64\n",
      " 5   V5      284807 non-null  float64\n",
      " 6   V6      284807 non-null  float64\n",
      " 7   V7      284807 non-null  float64\n",
      " 8   V8      284807 non-null  float64\n",
      " 9   V9      284807 non-null  float64\n",
      " 10  V10     284807 non-null  float64\n",
      " 11  V11     284807 non-null  float64\n",
      " 12  V12     284807 non-null  float64\n",
      " 13  V13     284807 non-null  float64\n",
      " 14  V14     284807 non-null  float64\n",
      " 15  V15     284807 non-null  float64\n",
      " 16  V16     284807 non-null  float64\n",
      " 17  V17     284807 non-null  float64\n",
      " 18  V18     284807 non-null  float64\n",
      " 19  V19     284807 non-null  float64\n",
      " 20  V20     284807 non-null  float64\n",
      " 21  V21     284807 non-null  float64\n",
      " 22  V22     284807 non-null  float64\n",
      " 23  V23     284807 non-null  float64\n",
      " 24  V24     284807 non-null  float64\n",
      " 25  V25     284807 non-null  float64\n",
      " 26  V26     284807 non-null  float64\n",
      " 27  V27     284807 non-null  float64\n",
      " 28  V28     284807 non-null  float64\n",
      " 29  Amount  284807 non-null  float64\n",
      " 30  Class   284807 non-null  int64  \n",
      "dtypes: float64(30), int64(1)\n",
      "memory usage: 67.4 MB\n"
     ]
    }
   ],
   "source": [
    "fraud_data_info = fraud_data.info()\n",
    "ip_data_info = ip_data.info()\n",
    "creditcard_data.info()"
   ]
  },
  {
   "cell_type": "markdown",
   "metadata": {},
   "source": [
    "## Handling Missing Values"
   ]
  },
  {
   "cell_type": "code",
   "execution_count": 6,
   "metadata": {},
   "outputs": [
    {
     "name": "stderr",
     "output_type": "stream",
     "text": [
      "2024-11-20 04:57:57,104 - INFO - Handling missing values for dataframes.\n",
      "c:\\Users\\Aman\\Documents\\GitHub\\EcomBank-FraudDetection\\scripts\\data_preprocessing.py:22: FutureWarning: DataFrame.fillna with 'method' is deprecated and will raise in a future version. Use obj.ffill() or obj.bfill() instead.\n",
      "  df.fillna(method='ffill', inplace=True)\n",
      "2024-11-20 04:57:57,492 - INFO - Dataframe 1: Missing values before: 0, after: 0\n",
      "2024-11-20 04:57:57,540 - INFO - Dataframe 2: Missing values before: 0, after: 0\n",
      "2024-11-20 04:57:57,667 - INFO - Dataframe 3: Missing values before: 0, after: 0\n"
     ]
    }
   ],
   "source": [
    "# Handle missing values\n",
    "fraud_data, ip_data, creditcard_data = handle_missing_values([fraud_data, ip_data, creditcard_data])"
   ]
  },
  {
   "cell_type": "markdown",
   "metadata": {},
   "source": [
    "## Data Cleaning"
   ]
  },
  {
   "cell_type": "code",
   "execution_count": 7,
   "metadata": {},
   "outputs": [
    {
     "name": "stderr",
     "output_type": "stream",
     "text": [
      "2024-11-20 04:58:03,751 - INFO - Cleaning fraud data.\n",
      "2024-11-20 04:58:04,764 - INFO - Duplicates removed: 0\n",
      "2024-11-20 04:58:05,207 - INFO - Datetime columns converted successfully.\n"
     ]
    }
   ],
   "source": [
    "# Clean data\n",
    "fraud_data = clean_data(fraud_data)"
   ]
  },
  {
   "cell_type": "markdown",
   "metadata": {},
   "source": [
    "## EDA"
   ]
  },
  {
   "cell_type": "code",
   "execution_count": 8,
   "metadata": {},
   "outputs": [
    {
     "name": "stderr",
     "output_type": "stream",
     "text": [
      "2024-11-20 04:58:07,903 - INFO - Performing exploratory data analysis (EDA).\n"
     ]
    },
    {
     "data": {
      "image/png": "[encoded data removed]",
      "text/plain": [
       "<Figure size 800x500 with 1 Axes>"
      ]
     },
     "metadata": {},
     "output_type": "display_data"
    },
    {
     "name": "stderr",
     "output_type": "stream",
     "text": [
      "2024-11-20 04:58:10,740 - INFO - Plotted distribution of purchase value.\n"
     ]
    },
    {
     "data": {
      "image/png": "[encoded data removed]",
      "text/plain": [
       "<Figure size 1000x600 with 2 Axes>"
      ]
     },
     "metadata": {},
     "output_type": "display_data"
    },
    {
     "name": "stderr",
     "output_type": "stream",
     "text": [
      "2024-11-20 04:58:11,325 - INFO - Plotted correlation heatmap for numeric columns.\n",
      "2024-11-20 04:58:11,964 - INFO - Using categorical units to plot a list of strings that are all parsable as floats or dates. If these strings should be plotted as numbers, cast to the appropriate data type before plotting.\n",
      "2024-11-20 04:58:12,513 - INFO - Using categorical units to plot a list of strings that are all parsable as floats or dates. If these strings should be plotted as numbers, cast to the appropriate data type before plotting.\n"
     ]
    },
    {
     "data": {
      "image/png": "[encoded data removed]",
      "text/plain": [
       "<Figure size 640x480 with 1 Axes>"
      ]
     },
     "metadata": {},
     "output_type": "display_data"
    },
    {
     "name": "stderr",
     "output_type": "stream",
     "text": [
      "2024-11-20 04:58:12,811 - INFO - Plotted class distribution for credit card data.\n"
     ]
    }
   ],
   "source": [
    "# Perform EDA\n",
    "perform_eda(fraud_data, creditcard_data)"
   ]
  },
  {
   "cell_type": "markdown",
   "metadata": {},
   "source": [
    "## Merge fraud data with IP data"
   ]
  },
  {
   "cell_type": "code",
   "execution_count": 9,
   "metadata": {},
   "outputs": [
    {
     "name": "stderr",
     "output_type": "stream",
     "text": [
      "2024-11-20 04:58:19,149 - INFO - Merging fraud data with IP data.\n",
      "2024-11-20 04:58:19,376 - INFO - Fraud data successfully merged with IP data.\n"
     ]
    }
   ],
   "source": [
    "# Merge fraud data with IP data\n",
    "fraud_data = merge_fraud_with_ip(fraud_data, ip_data)"
   ]
  },
  {
   "cell_type": "markdown",
   "metadata": {},
   "source": [
    "## Feature engineering"
   ]
  },
  {
   "cell_type": "code",
   "execution_count": 10,
   "metadata": {},
   "outputs": [
    {
     "name": "stderr",
     "output_type": "stream",
     "text": [
      "2024-11-20 04:58:23,256 - INFO - Performing feature engineering on fraud data.\n",
      "2024-11-20 04:58:23,442 - INFO - Feature engineering completed successfully.\n"
     ]
    }
   ],
   "source": [
    "# Feature engineering\n",
    "fraud_data = feature_engineering(fraud_data)"
   ]
  },
  {
   "cell_type": "markdown",
   "metadata": {},
   "source": [
    "## Categorical Encoding"
   ]
  },
  {
   "cell_type": "code",
   "execution_count": 11,
   "metadata": {},
   "outputs": [
    {
     "name": "stderr",
     "output_type": "stream",
     "text": [
      "2024-11-20 04:58:25,768 - INFO - Encoding categorical features in fraud data.\n",
      "2024-11-20 04:58:25,847 - INFO - Encoded column: sex\n",
      "2024-11-20 04:58:25,914 - INFO - Encoded column: source\n",
      "2024-11-20 04:58:26,005 - INFO - Encoded column: browser\n",
      "2024-11-20 04:58:26,076 - INFO - Encoded column: country\n"
     ]
    }
   ],
   "source": [
    "# Encode categorical features\n",
    "fraud_data = encode_features(fraud_data)"
   ]
  },
  {
   "cell_type": "markdown",
   "metadata": {},
   "source": [
    "## Scale features\n",
    "   "
   ]
  },
  {
   "cell_type": "code",
   "execution_count": 12,
   "metadata": {},
   "outputs": [
    {
     "name": "stderr",
     "output_type": "stream",
     "text": [
      "2024-11-20 04:58:28,330 - INFO - Scaling numerical features.\n",
      "2024-11-20 04:58:28,843 - INFO - Scaling completed successfully.\n"
     ]
    }
   ],
   "source": [
    "# Scale features\n",
    "fraud_data, creditcard_data = scale_features(fraud_data, creditcard_data)"
   ]
  },
  {
   "cell_type": "markdown",
   "metadata": {},
   "source": [
    "## Prepare datasets"
   ]
  },
  {
   "cell_type": "code",
   "execution_count": 13,
   "metadata": {},
   "outputs": [
    {
     "name": "stderr",
     "output_type": "stream",
     "text": [
      "2024-11-20 04:58:31,372 - INFO - Preparing final datasets for model training.\n",
      "2024-11-20 04:58:31,535 - INFO - Final datasets prepared successfully.\n"
     ]
    }
   ],
   "source": [
    "# Prepare datasets\n",
    "X_fraud, y_fraud, X_creditcard, y_creditcard = prepare_datasets(fraud_data, creditcard_data)"
   ]
  },
  {
   "cell_type": "markdown",
   "metadata": {},
   "source": [
    "## Display processed data\n",
    "   "
   ]
  },
  {
   "cell_type": "code",
   "execution_count": 14,
   "metadata": {},
   "outputs": [
    {
     "name": "stdout",
     "output_type": "stream",
     "text": [
      "Processed Fraud Data:\n"
     ]
    },
    {
     "data": {
      "text/html": [
       "<div>\n",
       "<style scoped>\n",
       "    .dataframe tbody tr th:only-of-type {\n",
       "        vertical-align: middle;\n",
       "    }\n",
       "\n",
       "    .dataframe tbody tr th {\n",
       "        vertical-align: top;\n",
       "    }\n",
       "\n",
       "    .dataframe thead th {\n",
       "        text-align: right;\n",
       "    }\n",
       "</style>\n",
       "<table border=\"1\" class=\"dataframe\">\n",
       "  <thead>\n",
       "    <tr style=\"text-align: right;\">\n",
       "      <th></th>\n",
       "      <th>user_id</th>\n",
       "      <th>signup_time</th>\n",
       "      <th>purchase_time</th>\n",
       "      <th>purchase_value</th>\n",
       "      <th>device_id</th>\n",
       "      <th>source</th>\n",
       "      <th>browser</th>\n",
       "      <th>sex</th>\n",
       "      <th>age</th>\n",
       "      <th>ip_address</th>\n",
       "      <th>class</th>\n",
       "      <th>ip_address_int</th>\n",
       "      <th>lower_bound_ip_address</th>\n",
       "      <th>upper_bound_ip_address</th>\n",
       "      <th>country</th>\n",
       "      <th>transaction_count</th>\n",
       "      <th>hour_of_day</th>\n",
       "      <th>day_of_week</th>\n",
       "    </tr>\n",
       "  </thead>\n",
       "  <tbody>\n",
       "    <tr>\n",
       "      <th>0</th>\n",
       "      <td>22058</td>\n",
       "      <td>2015-02-24 22:55:49</td>\n",
       "      <td>2015-04-18 02:47:11</td>\n",
       "      <td>-0.160204</td>\n",
       "      <td>QVPSPJUOCKZAR</td>\n",
       "      <td>2</td>\n",
       "      <td>0</td>\n",
       "      <td>1</td>\n",
       "      <td>39</td>\n",
       "      <td>7.327584e+08</td>\n",
       "      <td>0</td>\n",
       "      <td>732758368</td>\n",
       "      <td>NaN</td>\n",
       "      <td>NaN</td>\n",
       "      <td>4</td>\n",
       "      <td>0.0</td>\n",
       "      <td>2</td>\n",
       "      <td>5</td>\n",
       "    </tr>\n",
       "    <tr>\n",
       "      <th>1</th>\n",
       "      <td>333320</td>\n",
       "      <td>2015-06-07 20:39:50</td>\n",
       "      <td>2015-06-08 01:38:54</td>\n",
       "      <td>-1.142592</td>\n",
       "      <td>EOGFQPIZPYXFZ</td>\n",
       "      <td>0</td>\n",
       "      <td>0</td>\n",
       "      <td>0</td>\n",
       "      <td>53</td>\n",
       "      <td>3.503114e+08</td>\n",
       "      <td>0</td>\n",
       "      <td>350311387</td>\n",
       "      <td>NaN</td>\n",
       "      <td>NaN</td>\n",
       "      <td>4</td>\n",
       "      <td>0.0</td>\n",
       "      <td>1</td>\n",
       "      <td>0</td>\n",
       "    </tr>\n",
       "    <tr>\n",
       "      <th>2</th>\n",
       "      <td>1359</td>\n",
       "      <td>2015-01-01 18:52:44</td>\n",
       "      <td>2015-01-01 18:52:45</td>\n",
       "      <td>-1.197169</td>\n",
       "      <td>YSSKYOSJHPPLJ</td>\n",
       "      <td>2</td>\n",
       "      <td>3</td>\n",
       "      <td>1</td>\n",
       "      <td>53</td>\n",
       "      <td>2.621474e+09</td>\n",
       "      <td>1</td>\n",
       "      <td>2621473820</td>\n",
       "      <td>NaN</td>\n",
       "      <td>NaN</td>\n",
       "      <td>4</td>\n",
       "      <td>0.0</td>\n",
       "      <td>18</td>\n",
       "      <td>3</td>\n",
       "    </tr>\n",
       "    <tr>\n",
       "      <th>3</th>\n",
       "      <td>150084</td>\n",
       "      <td>2015-04-28 21:13:25</td>\n",
       "      <td>2015-05-04 13:54:50</td>\n",
       "      <td>0.385567</td>\n",
       "      <td>ATGTXKYKUDUQN</td>\n",
       "      <td>2</td>\n",
       "      <td>4</td>\n",
       "      <td>1</td>\n",
       "      <td>41</td>\n",
       "      <td>3.840542e+09</td>\n",
       "      <td>0</td>\n",
       "      <td>3840542443</td>\n",
       "      <td>NaN</td>\n",
       "      <td>NaN</td>\n",
       "      <td>4</td>\n",
       "      <td>0.0</td>\n",
       "      <td>13</td>\n",
       "      <td>0</td>\n",
       "    </tr>\n",
       "    <tr>\n",
       "      <th>4</th>\n",
       "      <td>221365</td>\n",
       "      <td>2015-07-21 07:09:52</td>\n",
       "      <td>2015-09-09 18:40:53</td>\n",
       "      <td>0.112681</td>\n",
       "      <td>NAUITBZFJKHWW</td>\n",
       "      <td>0</td>\n",
       "      <td>4</td>\n",
       "      <td>1</td>\n",
       "      <td>45</td>\n",
       "      <td>4.155831e+08</td>\n",
       "      <td>0</td>\n",
       "      <td>415583117</td>\n",
       "      <td>NaN</td>\n",
       "      <td>NaN</td>\n",
       "      <td>4</td>\n",
       "      <td>0.0</td>\n",
       "      <td>18</td>\n",
       "      <td>2</td>\n",
       "    </tr>\n",
       "  </tbody>\n",
       "</table>\n",
       "</div>"
      ],
      "text/plain": [
       "   user_id         signup_time       purchase_time  purchase_value  \\\n",
       "0    22058 2015-02-24 22:55:49 2015-04-18 02:47:11       -0.160204   \n",
       "1   333320 2015-06-07 20:39:50 2015-06-08 01:38:54       -1.142592   \n",
       "2     1359 2015-01-01 18:52:44 2015-01-01 18:52:45       -1.197169   \n",
       "3   150084 2015-04-28 21:13:25 2015-05-04 13:54:50        0.385567   \n",
       "4   221365 2015-07-21 07:09:52 2015-09-09 18:40:53        0.112681   \n",
       "\n",
       "       device_id  source  browser  sex  age    ip_address  class  \\\n",
       "0  QVPSPJUOCKZAR       2        0    1   39  7.327584e+08      0   \n",
       "1  EOGFQPIZPYXFZ       0        0    0   53  3.503114e+08      0   \n",
       "2  YSSKYOSJHPPLJ       2        3    1   53  2.621474e+09      1   \n",
       "3  ATGTXKYKUDUQN       2        4    1   41  3.840542e+09      0   \n",
       "4  NAUITBZFJKHWW       0        4    1   45  4.155831e+08      0   \n",
       "\n",
       "   ip_address_int  lower_bound_ip_address  upper_bound_ip_address  country  \\\n",
       "0       732758368                     NaN                     NaN        4   \n",
       "1       350311387                     NaN                     NaN        4   \n",
       "2      2621473820                     NaN                     NaN        4   \n",
       "3      3840542443                     NaN                     NaN        4   \n",
       "4       415583117                     NaN                     NaN        4   \n",
       "\n",
       "   transaction_count  hour_of_day  day_of_week  \n",
       "0                0.0            2            5  \n",
       "1                0.0            1            0  \n",
       "2                0.0           18            3  \n",
       "3                0.0           13            0  \n",
       "4                0.0           18            2  "
      ]
     },
     "metadata": {},
     "output_type": "display_data"
    },
    {
     "name": "stdout",
     "output_type": "stream",
     "text": [
      "\n",
      "Processed Creditcard Data:\n"
     ]
    },
    {
     "data": {
      "text/html": [
       "<div>\n",
       "<style scoped>\n",
       "    .dataframe tbody tr th:only-of-type {\n",
       "        vertical-align: middle;\n",
       "    }\n",
       "\n",
       "    .dataframe tbody tr th {\n",
       "        vertical-align: top;\n",
       "    }\n",
       "\n",
       "    .dataframe thead th {\n",
       "        text-align: right;\n",
       "    }\n",
       "</style>\n",
       "<table border=\"1\" class=\"dataframe\">\n",
       "  <thead>\n",
       "    <tr style=\"text-align: right;\">\n",
       "      <th></th>\n",
       "      <th>Time</th>\n",
       "      <th>V1</th>\n",
       "      <th>V2</th>\n",
       "      <th>V3</th>\n",
       "      <th>V4</th>\n",
       "      <th>V5</th>\n",
       "      <th>V6</th>\n",
       "      <th>V7</th>\n",
       "      <th>V8</th>\n",
       "      <th>V9</th>\n",
       "      <th>...</th>\n",
       "      <th>V21</th>\n",
       "      <th>V22</th>\n",
       "      <th>V23</th>\n",
       "      <th>V24</th>\n",
       "      <th>V25</th>\n",
       "      <th>V26</th>\n",
       "      <th>V27</th>\n",
       "      <th>V28</th>\n",
       "      <th>Amount</th>\n",
       "      <th>Class</th>\n",
       "    </tr>\n",
       "  </thead>\n",
       "  <tbody>\n",
       "    <tr>\n",
       "      <th>0</th>\n",
       "      <td>0.0</td>\n",
       "      <td>-0.694242</td>\n",
       "      <td>-0.044075</td>\n",
       "      <td>1.672773</td>\n",
       "      <td>0.973366</td>\n",
       "      <td>-0.245117</td>\n",
       "      <td>0.347068</td>\n",
       "      <td>0.193679</td>\n",
       "      <td>0.082637</td>\n",
       "      <td>0.331128</td>\n",
       "      <td>...</td>\n",
       "      <td>-0.024923</td>\n",
       "      <td>0.382854</td>\n",
       "      <td>-0.176911</td>\n",
       "      <td>0.110507</td>\n",
       "      <td>0.246585</td>\n",
       "      <td>-0.392170</td>\n",
       "      <td>0.330892</td>\n",
       "      <td>-0.063781</td>\n",
       "      <td>0.244964</td>\n",
       "      <td>0</td>\n",
       "    </tr>\n",
       "    <tr>\n",
       "      <th>1</th>\n",
       "      <td>0.0</td>\n",
       "      <td>0.608496</td>\n",
       "      <td>0.161176</td>\n",
       "      <td>0.109797</td>\n",
       "      <td>0.316523</td>\n",
       "      <td>0.043483</td>\n",
       "      <td>-0.061820</td>\n",
       "      <td>-0.063700</td>\n",
       "      <td>0.071253</td>\n",
       "      <td>-0.232494</td>\n",
       "      <td>...</td>\n",
       "      <td>-0.307377</td>\n",
       "      <td>-0.880077</td>\n",
       "      <td>0.162201</td>\n",
       "      <td>-0.561131</td>\n",
       "      <td>0.320694</td>\n",
       "      <td>0.261069</td>\n",
       "      <td>-0.022256</td>\n",
       "      <td>0.044608</td>\n",
       "      <td>-0.342475</td>\n",
       "      <td>0</td>\n",
       "    </tr>\n",
       "    <tr>\n",
       "      <th>2</th>\n",
       "      <td>1.0</td>\n",
       "      <td>-0.693500</td>\n",
       "      <td>-0.811578</td>\n",
       "      <td>1.169468</td>\n",
       "      <td>0.268231</td>\n",
       "      <td>-0.364572</td>\n",
       "      <td>1.351454</td>\n",
       "      <td>0.639776</td>\n",
       "      <td>0.207373</td>\n",
       "      <td>-1.378675</td>\n",
       "      <td>...</td>\n",
       "      <td>0.337632</td>\n",
       "      <td>1.063358</td>\n",
       "      <td>1.456320</td>\n",
       "      <td>-1.138092</td>\n",
       "      <td>-0.628537</td>\n",
       "      <td>-0.288447</td>\n",
       "      <td>-0.137137</td>\n",
       "      <td>-0.181021</td>\n",
       "      <td>1.160686</td>\n",
       "      <td>0</td>\n",
       "    </tr>\n",
       "    <tr>\n",
       "      <th>3</th>\n",
       "      <td>1.0</td>\n",
       "      <td>-0.493325</td>\n",
       "      <td>-0.112169</td>\n",
       "      <td>1.182516</td>\n",
       "      <td>-0.609727</td>\n",
       "      <td>-0.007469</td>\n",
       "      <td>0.936150</td>\n",
       "      <td>0.192071</td>\n",
       "      <td>0.316018</td>\n",
       "      <td>-1.262503</td>\n",
       "      <td>...</td>\n",
       "      <td>-0.147443</td>\n",
       "      <td>0.007267</td>\n",
       "      <td>-0.304777</td>\n",
       "      <td>-1.941027</td>\n",
       "      <td>1.241904</td>\n",
       "      <td>-0.460217</td>\n",
       "      <td>0.155396</td>\n",
       "      <td>0.186189</td>\n",
       "      <td>0.140534</td>\n",
       "      <td>0</td>\n",
       "    </tr>\n",
       "    <tr>\n",
       "      <th>4</th>\n",
       "      <td>2.0</td>\n",
       "      <td>-0.591330</td>\n",
       "      <td>0.531541</td>\n",
       "      <td>1.021412</td>\n",
       "      <td>0.284655</td>\n",
       "      <td>-0.295015</td>\n",
       "      <td>0.071999</td>\n",
       "      <td>0.479302</td>\n",
       "      <td>-0.226510</td>\n",
       "      <td>0.744326</td>\n",
       "      <td>...</td>\n",
       "      <td>-0.012839</td>\n",
       "      <td>1.100011</td>\n",
       "      <td>-0.220123</td>\n",
       "      <td>0.233250</td>\n",
       "      <td>-0.395202</td>\n",
       "      <td>1.041611</td>\n",
       "      <td>0.543620</td>\n",
       "      <td>0.651816</td>\n",
       "      <td>-0.073403</td>\n",
       "      <td>0</td>\n",
       "    </tr>\n",
       "  </tbody>\n",
       "</table>\n",
       "<p>5 rows × 31 columns</p>\n",
       "</div>"
      ],
      "text/plain": [
       "   Time        V1        V2        V3        V4        V5        V6        V7  \\\n",
       "0   0.0 -0.694242 -0.044075  1.672773  0.973366 -0.245117  0.347068  0.193679   \n",
       "1   0.0  0.608496  0.161176  0.109797  0.316523  0.043483 -0.061820 -0.063700   \n",
       "2   1.0 -0.693500 -0.811578  1.169468  0.268231 -0.364572  1.351454  0.639776   \n",
       "3   1.0 -0.493325 -0.112169  1.182516 -0.609727 -0.007469  0.936150  0.192071   \n",
       "4   2.0 -0.591330  0.531541  1.021412  0.284655 -0.295015  0.071999  0.479302   \n",
       "\n",
       "         V8        V9  ...       V21       V22       V23       V24       V25  \\\n",
       "0  0.082637  0.331128  ... -0.024923  0.382854 -0.176911  0.110507  0.246585   \n",
       "1  0.071253 -0.232494  ... -0.307377 -0.880077  0.162201 -0.561131  0.320694   \n",
       "2  0.207373 -1.378675  ...  0.337632  1.063358  1.456320 -1.138092 -0.628537   \n",
       "3  0.316018 -1.262503  ... -0.147443  0.007267 -0.304777 -1.941027  1.241904   \n",
       "4 -0.226510  0.744326  ... -0.012839  1.100011 -0.220123  0.233250 -0.395202   \n",
       "\n",
       "        V26       V27       V28    Amount  Class  \n",
       "0 -0.392170  0.330892 -0.063781  0.244964      0  \n",
       "1  0.261069 -0.022256  0.044608 -0.342475      0  \n",
       "2 -0.288447 -0.137137 -0.181021  1.160686      0  \n",
       "3 -0.460217  0.155396  0.186189  0.140534      0  \n",
       "4  1.041611  0.543620  0.651816 -0.073403      0  \n",
       "\n",
       "[5 rows x 31 columns]"
      ]
     },
     "metadata": {},
     "output_type": "display_data"
    },
    {
     "data": {
      "text/plain": [
       "(        purchase_value      device_id  source  browser  sex  age  country  \\\n",
       " 0            -0.160204  QVPSPJUOCKZAR       2        0    1   39        4   \n",
       " 1            -1.142592  EOGFQPIZPYXFZ       0        0    0   53        4   \n",
       " 2            -1.197169  YSSKYOSJHPPLJ       2        3    1   53        4   \n",
       " 3             0.385567  ATGTXKYKUDUQN       2        4    1   41        4   \n",
       " 4             0.112681  NAUITBZFJKHWW       0        4    1   45        4   \n",
       " ...                ...            ...     ...      ...  ...  ...      ...   \n",
       " 151107        0.330990  XPSKTWGPWINLR       2        0    1   28        4   \n",
       " 151108       -0.105627  LYSFABUCPCGBA       2        4    1   32        4   \n",
       " 151109        0.167258  MEQHCSJUBRBFE       2        2    0   26        4   \n",
       " 151110        0.494721  CMCXFGRHYSTVJ       2        0    1   37        4   \n",
       " 151111       -0.924284  ZINIADFCLHYPG       1        2    1   38        4   \n",
       " \n",
       "         transaction_count  hour_of_day  day_of_week  \n",
       " 0                     0.0            2            5  \n",
       " 1                     0.0            1            0  \n",
       " 2                     0.0           18            3  \n",
       " 3                     0.0           13            0  \n",
       " 4                     0.0           18            2  \n",
       " ...                   ...          ...          ...  \n",
       " 151107                0.0            0            6  \n",
       " 151108                0.0           12            1  \n",
       " 151109                0.0            7            2  \n",
       " 151110                0.0            9            0  \n",
       " 151111                0.0            2            1  \n",
       " \n",
       " [151112 rows x 10 columns],\n",
       " 0         0\n",
       " 1         0\n",
       " 2         1\n",
       " 3         0\n",
       " 4         0\n",
       "          ..\n",
       " 151107    1\n",
       " 151108    0\n",
       " 151109    0\n",
       " 151110    0\n",
       " 151111    0\n",
       " Name: class, Length: 151112, dtype: int64,\n",
       "             Time        V1        V2        V3        V4        V5        V6  \\\n",
       " 0            0.0 -0.694242 -0.044075  1.672773  0.973366 -0.245117  0.347068   \n",
       " 1            0.0  0.608496  0.161176  0.109797  0.316523  0.043483 -0.061820   \n",
       " 2            1.0 -0.693500 -0.811578  1.169468  0.268231 -0.364572  1.351454   \n",
       " 3            1.0 -0.493325 -0.112169  1.182516 -0.609727 -0.007469  0.936150   \n",
       " 4            2.0 -0.591330  0.531541  1.021412  0.284655 -0.295015  0.071999   \n",
       " ...          ...       ...       ...       ...       ...       ...       ...   \n",
       " 284802  172786.0 -6.065842  6.099286 -6.486245 -1.459641 -3.886611 -1.956690   \n",
       " 284803  172787.0 -0.374121 -0.033356  1.342145 -0.521651  0.629040  0.794446   \n",
       " 284804  172788.0  0.980024 -0.182434 -2.143205 -0.393984  1.905833  2.275262   \n",
       " 284805  172788.0 -0.122755  0.321250  0.463320  0.487192 -0.273836  0.468155   \n",
       " 284806  172792.0 -0.272331 -0.114899  0.463866 -0.357570 -0.009089 -0.487602   \n",
       " \n",
       "               V7        V8        V9  ...       V20       V21       V22  \\\n",
       " 0       0.193679  0.082637  0.331128  ...  0.326118 -0.024923  0.382854   \n",
       " 1      -0.063700  0.071253 -0.232494  ... -0.089611 -0.307377 -0.880077   \n",
       " 2       0.639776  0.207373 -1.378675  ...  0.680975  0.337632  1.063358   \n",
       " 3       0.192071  0.316018 -1.262503  ... -0.269855 -0.147443  0.007267   \n",
       " 4       0.479302 -0.226510  0.744326  ...  0.529939 -0.012839  1.100011   \n",
       " ...          ...       ...       ...  ...       ...       ...       ...   \n",
       " 284802 -3.975628  6.116573  1.742559  ...  1.914365  0.290602  0.154146   \n",
       " 284803  0.019667  0.246886  0.532299  ...  0.077330  0.291625  1.273781   \n",
       " 284804 -0.239939  0.593140  0.393630  ...  0.001811  0.315913  0.796788   \n",
       " 284805 -0.554672  0.568631  0.356887  ...  0.165300  0.361112  1.102451   \n",
       " 284806  1.274769 -0.347176  0.442532  ...  0.496739  0.355411  0.886149   \n",
       " \n",
       "              V23       V24       V25       V26       V27       V28    Amount  \n",
       " 0      -0.176911  0.110507  0.246585 -0.392170  0.330892 -0.063781  0.244964  \n",
       " 1       0.162201 -0.561131  0.320694  0.261069 -0.022256  0.044608 -0.342475  \n",
       " 2       1.456320 -1.138092 -0.628537 -0.288447 -0.137137 -0.181021  1.160686  \n",
       " 3      -0.304777 -1.941027  1.241904 -0.460217  0.155396  0.186189  0.140534  \n",
       " 4      -0.220123  0.233250 -0.395202  1.041611  0.543620  0.651816 -0.073403  \n",
       " ...          ...       ...       ...       ...       ...       ...       ...  \n",
       " 284802  1.624574 -0.841000  2.756320  0.518500  2.337901  2.495529 -0.350151  \n",
       " 284803  0.019958 -1.677920 -1.163726 -0.819647  0.169641 -0.162164 -0.254117  \n",
       " 284804 -0.060053  1.056944  0.509797 -0.181182  0.011037 -0.080467 -0.081839  \n",
       " 284805 -0.261503  0.203428 -1.091855  1.133635  0.269604  0.316687 -0.313249  \n",
       " 284806  0.603365  0.014526 -0.908631 -1.696853 -0.005984  0.041350  0.514355  \n",
       " \n",
       " [284807 rows x 30 columns],\n",
       " 0         0\n",
       " 1         0\n",
       " 2         0\n",
       " 3         0\n",
       " 4         0\n",
       "          ..\n",
       " 284802    0\n",
       " 284803    0\n",
       " 284804    0\n",
       " 284805    0\n",
       " 284806    0\n",
       " Name: Class, Length: 284807, dtype: int64)"
      ]
     },
     "execution_count": 14,
     "metadata": {},
     "output_type": "execute_result"
    }
   ],
   "source": [
    "# Display processed data\n",
    "from IPython.display import display\n",
    "\n",
    "print(\"Processed Fraud Data:\")\n",
    "display(fraud_data.head())  \n",
    "\n",
    "print(\"\\nProcessed Creditcard Data:\")\n",
    "display(creditcard_data.head())  \n",
    "\n",
    "# Return the datasets\n",
    "X_fraud, y_fraud, X_creditcard, y_creditcard\n"
   ]
  },
  {
   "cell_type": "code",
   "execution_count": 15,
   "metadata": {},
   "outputs": [
    {
     "name": "stdout",
     "output_type": "stream",
     "text": [
      "Features and targets saved separately as CSV files.\n"
     ]
    }
   ],
   "source": [
    "# Save features and targets separately\n",
    "X_fraud.to_csv(\"../data/X_fraud.csv\", index=False)\n",
    "y_fraud.to_csv(\"../data/y_fraud.csv\", index=False)\n",
    "X_creditcard.to_csv(\"../data/X_creditcard.csv\", index=False)\n",
    "y_creditcard.to_csv(\"../data/y_creditcard.csv\", index=False)\n",
    "\n",
    "print(\"Features and targets saved separately as CSV files.\")\n"
   ]
  }
 ],
 "metadata": {
  "kernelspec": {
   "display_name": "venv",
   "language": "python",
   "name": "python3"
  },
  "language_info": {
   "codemirror_mode": {
    "name": "ipython",
    "version": 3
   },
   "file_extension": ".py",
   "mimetype": "text/x-python",
   "name": "python",
   "nbconvert_exporter": "python",
   "pygments_lexer": "ipython3",
   "version": "3.12.6"
  }
 },
 "nbformat": 4,
 "nbformat_minor": 2
}
